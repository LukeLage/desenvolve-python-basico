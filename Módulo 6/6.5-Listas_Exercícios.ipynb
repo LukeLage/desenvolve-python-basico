{
  "metadata": {
    "kernelspec": {
      "name": "python",
      "display_name": "Python (Pyodide)",
      "language": "python"
    },
    "language_info": {
      "codemirror_mode": {
        "name": "python",
        "version": 3
      },
      "file_extension": ".py",
      "mimetype": "text/x-python",
      "name": "python",
      "nbconvert_exporter": "python",
      "pygments_lexer": "ipython3",
      "version": "3.8"
    }
  },
  "nbformat_minor": 5,
  "nbformat": 4,
  "cells": [
    {
      "id": "0d5035b5",
      "cell_type": "markdown",
      "source": "# Listas\n\n## Aulas 6.1 a 6.5 ",
      "metadata": {}
    },
    {
      "id": "0bdece85",
      "cell_type": "markdown",
      "source": "### Q1. \n\nUsando a função embutida ```map``` e criando uma função ```lambda```, transforme uma lista com os raios de múltiplas circunferências em uma nova lista com as respectivas áreas. O cálculo de cada área é dado por: ```pi*(raio**2)```\n- Use a constante pi da biblioteca math \n- Arredonde o resultado para 2 casas decimais\n",
      "metadata": {}
    },
    {
      "id": "0a258eba",
      "cell_type": "code",
      "source": "## Complete a solução\n\nraios = [1.5, 0.8, 2.3, 5.0]\n\n## Complete a solução\n\nimport math\n\ndef area(raio):\n  return math.pi * raio ** 2\n\ndef funcao_lambda(raio):\n  return area(raio)\n\nareas = list(map(funcao_lambda, raios)) # ou areas = list(map(calcular_area, raios))\n\nareas_arredondadas = [round(area, 2) for area in areas]\n\nprint(\"Raios:\", raios)\nprint(\"Áreas:\", areas_arredondadas)\n",
      "metadata": {
        "trusted": true
      },
      "outputs": [
        {
          "name": "stdout",
          "text": "Raios: [1.5, 0.8, 2.3, 5.0]\nÁreas: [7.07, 2.01, 16.62, 78.54]\n",
          "output_type": "stream"
        }
      ],
      "execution_count": 2
    },
    {
      "id": "649a5082",
      "cell_type": "markdown",
      "source": "### Q2. \n\nCrie uma função customizada e aplique a função embutida ```filter``` para operar em uma lista de listas contendo os lados de múltiplos triângulos. Construa uma nova lista contendo apenas os triângulos equiláteros, ou seja, com os três lados iguais.\n",
      "metadata": {}
    },
    {
      "id": "47cb0573",
      "cell_type": "code",
      "source": "def testa_equilatero(lados):\n  if len(lados) != 3:\n    raise ValueError(\"Esperando uma lista com 3 lados de um triângulo.\")\n  a, b, c = lados\n  return a == b == c\n\ntriangulos = [[2, 2, 2], [3, 4, 5], [3, 2, 2], [4, 4, 4]]\n\n# Filtrar triângulos equiláteros\ntriangulos_equilateros = list(filter(testa_equilatero, triangulos))\n\nprint(\"Triângulos originais:\", triangulos)\nprint(\"Triângulos equiláteros:\", triangulos_equilateros)\n",
      "metadata": {
        "trusted": true
      },
      "outputs": [
        {
          "name": "stdout",
          "text": "Triângulos originais: [[2, 2, 2], [3, 4, 5], [3, 2, 2], [4, 4, 4]]\nTriângulos equiláteros: [[2, 2, 2], [4, 4, 4]]\n",
          "output_type": "stream"
        }
      ],
      "execution_count": 10
    },
    {
      "id": "bb62d219",
      "cell_type": "markdown",
      "source": "### Q3. \nCrie uma função chamada ```ordena_por_comprimento``` que aceite uma lista de strings e a ordene com base no comprimento das strings, do menor para o maior. Utilize a função ```sorte``` e uma expressão ```lambda```.",
      "metadata": {}
    },
    {
      "id": "add41556",
      "cell_type": "code",
      "source": "### crie a função ordena_por_comprimento e retorne a lista resultado\ndef ordena_por_comprimento(lista_strings):\n    return sorted(lista_strings, key=lambda string: len(string))\n\n### aplique sua função à seguinte lista e imprima o resultado\nnomes = [\"Joao\", \"Maria\", \"Jose\", \"Gabriela\", \"Sol\", \"Luna\", \"Bento\", \"Enzo\", \"Fernanda\"]\n\n# Exemplo de uso\nlista_desordenada = [\"abacate\", \"banana\", \"laranja\", \"uva\"]\nlista_ordenada = ordena_por_comprimento(lista_desordenada)\n\nprint(\"Lista desordenada:\", lista_desordenada)\nprint(\"Lista ordenada por comprimento:\", lista_ordenada)\n",
      "metadata": {
        "trusted": true
      },
      "outputs": [
        {
          "name": "stdout",
          "text": "Lista desordenada: ['abacate', 'banana', 'laranja', 'uva']\nLista ordenada por comprimento: ['uva', 'banana', 'abacate', 'laranja']\n",
          "output_type": "stream"
        }
      ],
      "execution_count": 11
    },
    {
      "id": "8710b1a7",
      "cell_type": "markdown",
      "source": "### Q4.\n\nCrie uma lista de listas (uma matriz de 2 dimensões) de tamanho $n \\times n$, com $n$ dado pelo usuário. Cada elemento da matriz deve ser o produto dos índices da linha pela coluna.\n\nExemplo:\n```\nDigite n: 4\nMatriz:\n[[0, 0, 0, 0],\n [0, 1, 2, 3],\n [0, 2, 4, 6],\n [0, 3, 6, 9]]\n```",
      "metadata": {}
    },
    {
      "id": "0b7ee921",
      "cell_type": "code",
      "source": "# Implemente sua solução aqui\n\ndef criar_matriz_produto_indices(n):\n  if n <= 0:\n    raise ValueError(\"O tamanho da matriz deve ser um número positivo maior que zero.\")\n\n  matriz = []\n  for linha in range(n):\n    linha_atual = []\n    for coluna in range(n):\n      linha_atual.append(linha * coluna)\n    matriz.append(linha_atual)\n\n  return matriz\n\n# Solicitar o tamanho da matriz ao usuário\nn = int(input(\"Digite o tamanho da matriz (n x n): \"))\n\n# Criar e imprimir a matriz\nmatriz = criar_matriz_produto_indices(n)\nprint(\"Matriz:\")\nfor linha in matriz:\n  print(linha)\n",
      "metadata": {
        "trusted": true
      },
      "outputs": [
        {
          "ename": "<class 'TypeError'>",
          "evalue": "int() argument must be a string, a bytes-like object or a real number, not 'PyodideFuture'",
          "traceback": [
            "\u001b[0;31m---------------------------------------------------------------------------\u001b[0m",
            "\u001b[0;31mTypeError\u001b[0m                                 Traceback (most recent call last)",
            "Cell \u001b[0;32mIn[8], line 17\u001b[0m\n\u001b[1;32m     14\u001b[0m   \u001b[38;5;28;01mreturn\u001b[39;00m matriz\n\u001b[1;32m     16\u001b[0m \u001b[38;5;66;03m# Solicitar o tamanho da matriz ao usuário\u001b[39;00m\n\u001b[0;32m---> 17\u001b[0m n \u001b[38;5;241m=\u001b[39m \u001b[38;5;28;43mint\u001b[39;49m\u001b[43m(\u001b[49m\u001b[38;5;28;43minput\u001b[39;49m\u001b[43m(\u001b[49m\u001b[38;5;124;43m\"\u001b[39;49m\u001b[38;5;124;43mDigite o tamanho da matriz (n x n): \u001b[39;49m\u001b[38;5;124;43m\"\u001b[39;49m\u001b[43m)\u001b[49m\u001b[43m)\u001b[49m\n\u001b[1;32m     19\u001b[0m \u001b[38;5;66;03m# Criar e imprimir a matriz\u001b[39;00m\n\u001b[1;32m     20\u001b[0m matriz \u001b[38;5;241m=\u001b[39m criar_matriz_produto_indices(n)\n",
            "\u001b[0;31mTypeError\u001b[0m: int() argument must be a string, a bytes-like object or a real number, not 'PyodideFuture'"
          ],
          "output_type": "error"
        },
        {
          "output_type": "stream",
          "name": "stdin",
          "text": "Digite o tamanho da matriz (n x n):  5x5\n"
        }
      ],
      "execution_count": 12
    },
    {
      "id": "f41781df",
      "cell_type": "markdown",
      "source": "### Q5.\n\nDada uma lista de números inteiros, implemente uma função em Python chamada ```pares_unicos``` que encontre e retorne todos os pares únicos de elementos na lista cuja soma seja igual a um determinado valor. Considere que a ordem dos pares não é relevante.",
      "metadata": {}
    },
    {
      "id": "7a76f765",
      "cell_type": "code",
      "source": "def pares_unicos(numeros, soma_objetivo):\n  pares_encontrados = []\n  conjunto_visto = set()  # Armazena os elementos já utilizados em um par\n\n  for i in range(len(numeros)):\n    for j in range(i + 1, len(numeros)):\n      soma_atual = numeros[i] + numeros[j]\n      if soma_atual == soma_objetivo:\n        # Verifica se o par inverso já foi encontrado (evita duplicatas)\n        if (numeros[j], numeros[i]) not in conjunto_visto:\n          pares_encontrados.append((numeros[i], numeros[j]))\n          conjunto_visto.add((numeros[i], numeros[j]))\n\n  return pares_encontrados\n\n    \n# Exemplo de uso:\nnums = [3, 4, 5, 6, 7]\nsoma = 10\nresultado = pares_unicos(nums, soma)\nprint(resultado)  # Saída esperada: [(3, 7), (4, 6)]",
      "metadata": {
        "trusted": true
      },
      "outputs": [
        {
          "name": "stdout",
          "text": "[(3, 7), (4, 6)]\n",
          "output_type": "stream"
        }
      ],
      "execution_count": 18
    },
    {
      "id": "87e44893",
      "cell_type": "markdown",
      "source": "### Q5.\n\nEscreva um programa para encontrar a diferença entre duas listas, incluindo elementos duplicados.\n\nEx:\n```\nListas originais: \n[1, 1, 2, 3, 3, 4, 4, 5, 6, 7]\n[1, 1, 2, 4, 5, 6]\nDiferença entre as listas:\n[3, 3, 4, 7]\n```",
      "metadata": {}
    },
    {
      "id": "7edc027c",
      "cell_type": "code",
      "source": "# Implemente sua solução aqui\n\ndef encontrar_diferenca_com_duplicatas(lista1, lista2):\n  # Conjunto para armazenar elementos únicos da lista1\n  conjunto_lista1 = set(lista1)\n\n  # Conjunto para armazenar elementos únicos da interseção entre lista1 e lista2\n  conjunto_intersecao = set(lista1) & set(lista2)\n\n  # Diferença entre os conjuntos\n  diferenca = conjunto_lista1 - conjunto_intersecao\n\n  # Converter o conjunto em lista para o resultado final\n  return list(diferenca)\n\n# Exemplo de uso\nlista1 = [1, 1, 2, 3, 3, 4, 4, 5, 6, 7]\nlista2 = [1, 1, 2, 4, 5, 6]\n\ndiferenca = encontrar_diferenca_com_duplicatas(lista1, lista2)\nprint(f\"Diferença entre as listas: {diferenca}\")\n",
      "metadata": {},
      "outputs": [],
      "execution_count": null
    },
    {
      "id": "f4c4236d",
      "cell_type": "markdown",
      "source": "### Q6.\n\nDada uma lista aleatória, escreva um programa que separa os valores em listas menores de acordo com o tamanho solicitado. Caso não seja possível repartir igualmente a lista original, a última sublista deve conter os elementos remanescentes, como indicado no exemplo a seguir.\n\nNote que seu programa deve continuar executando em um laço infinito até que o usuário informe o tamanho 0 na entrada solicitada.\n\n```\nLista original:\n[12, 45, 23, 67, 78, 90, 45, 32, 100, 76, 38, 62, 73, 29, 83]\n\nTamanho para divisão: 3\nSubslistas:\n[[12, 45, 23], [67, 78, 90], [45, 32, 100], [76, 38, 62], [73, 29, 83]]\n\nTamanho para divisão: 4\nSubslistas: [[12, 45, 23, 67], [78, 90, 45, 32], [100, 76, 38, 62], [73, 29, 83]]\n\nTamanho para divisão: 0\n```",
      "metadata": {}
    },
    {
      "id": "792563de",
      "cell_type": "code",
      "source": "import random\nlista = [random.randint(1,100) for i in range(20)]\n\n# Implemente sua solução aqui\n\ndef dividir_lista_em_sublistas(lista_original, tamanho_sublista):\n  if tamanho_sublista <= 0:\n    raise ValueError(\"O tamanho da sublista deve ser um número positivo maior que zero.\")\n\n  sublistas = []\n  indice_inicial = 0\n  while indice_inicial < len(lista_original):\n    sublista_atual = lista_original[indice_inicial:indice_inicial + tamanho_sublista]\n    sublistas.append(sublista_atual)\n    indice_inicial += tamanho_sublista\n\n  return sublistas\n\nwhile True:\n  try:\n    tamanho_sublista = int(input(\"Informe o tamanho da sublista (ou 0 para sair): \"))\n    if tamanho_sublista == 0:\n      break\n\n    lista_original = [12, 45, 23, 67, 78, 90, 45, 32, 100, 76, 38, 62, 73, 29, 83]\n    sublistas = dividir_lista_em_sublistas(lista_original, tamanho_sublista)\n\n    print(f\"Lista original: {lista_original}\")\n    print(f\"Subslistas: {sublistas}\")\n  except ValueError as e:\n    print(f\"Erro: {e}\")\n",
      "metadata": {
        "trusted": true
      },
      "outputs": [
        {
          "ename": "<class 'TypeError'>",
          "evalue": "int() argument must be a string, a bytes-like object or a real number, not 'PyodideFuture'",
          "traceback": [
            "\u001b[0;31m---------------------------------------------------------------------------\u001b[0m",
            "\u001b[0;31mTypeError\u001b[0m                                 Traceback (most recent call last)",
            "Cell \u001b[0;32mIn[12], line 21\u001b[0m\n\u001b[1;32m     19\u001b[0m \u001b[38;5;28;01mwhile\u001b[39;00m \u001b[38;5;28;01mTrue\u001b[39;00m:\n\u001b[1;32m     20\u001b[0m   \u001b[38;5;28;01mtry\u001b[39;00m:\n\u001b[0;32m---> 21\u001b[0m     tamanho_sublista \u001b[38;5;241m=\u001b[39m \u001b[38;5;28;43mint\u001b[39;49m\u001b[43m(\u001b[49m\u001b[38;5;28;43minput\u001b[39;49m\u001b[43m(\u001b[49m\u001b[38;5;124;43m\"\u001b[39;49m\u001b[38;5;124;43mInforme o tamanho da sublista (ou 0 para sair): \u001b[39;49m\u001b[38;5;124;43m\"\u001b[39;49m\u001b[43m)\u001b[49m\u001b[43m)\u001b[49m\n\u001b[1;32m     22\u001b[0m     \u001b[38;5;28;01mif\u001b[39;00m tamanho_sublista \u001b[38;5;241m==\u001b[39m \u001b[38;5;241m0\u001b[39m:\n\u001b[1;32m     23\u001b[0m       \u001b[38;5;28;01mbreak\u001b[39;00m\n",
            "\u001b[0;31mTypeError\u001b[0m: int() argument must be a string, a bytes-like object or a real number, not 'PyodideFuture'"
          ],
          "output_type": "error"
        },
        {
          "output_type": "stream",
          "name": "stdin",
          "text": "Informe o tamanho da sublista (ou 0 para sair):  0\n"
        }
      ],
      "execution_count": 16
    },
    {
      "id": "c65be32f",
      "cell_type": "markdown",
      "source": "### Q7.\n\nVocê está desenvolvendo um programa para determinar o vencedor de um jogo da velha. Escreva uma função ```avalia_tabuleiro()``` que recebe uma lista representando o estado atual do tabuleiro e determina se há um vencedor. \n\nA lista terá 3 sublistas, cada uma representando uma linha do tabuleiro. Cada elemento das sublistas pode ser 'X', 'O' ou vazio (' ').\n\nO programa deve imprimir o vencedor ('X', 'O'), se houver um, ou \"Empate\" se não houver vencedor. Um vencedor é determinado se houver três 'X' ou três 'O' em linha (horizontal, vertical ou diagonal).\n\nExemplo:\n```python\ntabuleiro = [\n    ['X', 'O', 'X'],\n    [' ', 'X', 'O'],\n    ['O', ' ', 'O']\n]\n```\nO resultado seria \"Empate\", pois não há um vencedor no exemplo fornecido. \n\nExemplo 2:\n```python\ntabuleiro = [\n    ['O', 'X', 'O'],\n    ['X', 'O', 'X'],\n    ['X', ' ', 'O']\n]\n```\nO resultado seria \"O\", pois 'O' venceu na diagonal central.",
      "metadata": {}
    },
    {
      "id": "720ca24d",
      "cell_type": "code",
      "source": "### Escreva a função avalia_tabuleiro()\n\ndef avalia_tabuleiro(tabuleiro):\n  # Verificar linhas\n  for linha in tabuleiro:\n    if verifica_linha(linha) != ' ':\n      return verifica_linha(linha)\n\n  # Verificar colunas\n  for coluna in range(len(tabuleiro[0])):\n    coluna_atual = []\n    for linha in tabuleiro:\n      coluna_atual.append(linha[coluna])\n    if verifica_linha(coluna_atual) != ' ':\n      return verifica_linha(coluna_atual)\n\n  # Verificar diagonais\n  if verifica_linha([tabuleiro[i][i] for i in range(len(tabuleiro))]) != ' ':\n    return verifica_linha([tabuleiro[i][i] for i in range(len(tabuleiro))])\n  if verifica_linha([tabuleiro[i][len(tabuleiro) - i - 1] for i in range(len(tabuleiro))]) != ' ':\n    return verifica_linha([tabuleiro[i][len(tabuleiro) - i - 1] for i in range(len(tabuleiro))])\n\n  # Verificar se há espaços vazios (empate)\n  for linha in tabuleiro:\n    for elemento in linha:\n      if elemento == ' ':\n        return 'Em andamento'\n\n  # Se não encontrar um vencedor, é empate\n  return \"Empate\"\n\ndef verifica_linha(linha):\n  if linha[0] == linha[1] == linha[2] and linha[0] != ' ':\n    return linha[0]\n  else:\n    return ' '\n\n\n### teste a função nos seguintes tabuleiros\n\ntabuleiro1 = [\n    ['X', 'O', 'X'],\n    [' ', 'X', 'O'],\n    ['O', ' ', 'X']\n]\n\ntabuleiro2 = [\n    ['X', 'O', 'O'],\n    ['X', 'X', 'O'],\n    ['X', 'O', 'X']\n]\n\ntabuleiro3 = [\n    [' ', ' ', ' '],\n    ['X', ' ', 'O'],\n    ['O', 'X', 'X']\n]\n\ntabuleiro4 = [\n    ['O', 'O', 'O'],\n    ['X', ' ', 'X'],\n    ['O', 'X', 'X']\n]\n\ntabuleiro5 = [\n    ['X', 'X', 'O'],\n    ['X', ' ', 'O'],\n    ['O', 'O', 'X']\n]\n\n# Teste da função\n\nresultado = avalia_tabuleiro(tabuleiro1)\nprint(f\"Tabuleiro 1: {resultado}\")\n\nresultado = avalia_tabuleiro(tabuleiro2)\nprint(f\"Tabuleiro 2: {resultado}\")\n\nresultado = avalia_tabuleiro(tabuleiro3)\nprint(f\"Tabuleiro 3: {resultado}\")\n\nresultado = avalia_tabuleiro(tabuleiro4)\nprint(f\"Tabuleiro 4: {resultado}\")\n\nresultado = avalia_tabuleiro(tabuleiro5)\nprint(f\"Tabuleiro 5: {resultado}\")\n\n",
      "metadata": {
        "trusted": true
      },
      "outputs": [
        {
          "name": "stdout",
          "text": "Tabuleiro 1: X\nTabuleiro 2: X\nTabuleiro 3: Em andamento\nTabuleiro 4: O\nTabuleiro 5: Em andamento\n",
          "output_type": "stream"
        }
      ],
      "execution_count": 15
    },
    {
      "id": "85707922-0b92-447a-b801-a2daca68634c",
      "cell_type": "code",
      "source": "",
      "metadata": {
        "trusted": true
      },
      "outputs": [],
      "execution_count": null
    }
  ]
}