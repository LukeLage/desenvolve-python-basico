{
  "metadata": {
    "kernelspec": {
      "name": "python",
      "display_name": "Python (Pyodide)",
      "language": "python"
    },
    "language_info": {
      "codemirror_mode": {
        "name": "python",
        "version": 3
      },
      "file_extension": ".py",
      "mimetype": "text/x-python",
      "name": "python",
      "nbconvert_exporter": "python",
      "pygments_lexer": "ipython3",
      "version": "3.8"
    }
  },
  "nbformat_minor": 5,
  "nbformat": 4,
  "cells": [
    {
      "id": "0d5035b5",
      "cell_type": "markdown",
      "source": "# Tupla\n\n## Aula 8.2",
      "metadata": {}
    },
    {
      "id": "0bdece85",
      "cell_type": "markdown",
      "source": "### Q1. \n\nEscreva uma função ```calcula_area_perimetro``` que recebe **apenas um parâmetro** ```dimensoes``` e calcula a área e o perímetro a partir das dimensões dadas. \n- ```dimensoes``` é uma tupla (largura, comprimento) com as dimensões de um terreno retangular\n- Sua função deve calcular e retornar as seguintes operações\n   - $area = largura \\times comprimento$\n   - $perimetro = 2\\times(largura + comprimento)$\n",
      "metadata": {}
    },
    {
      "id": "0a258eba",
      "cell_type": "code",
      "source": "# Implemente aqui a função calcula_area_perimetro\n\ndef calcula_area_perimetro(dimensoes):\n  # Verificar o tipo e tamanho da tupla 'dimensoes'\n  if not isinstance(dimensoes, tuple) or len(dimensoes) != 2:\n    raise TypeError(\"Argumento 'dimensoes' deve ser uma tupla com dois elementos.\")\n\n  # Verificar se os valores na tupla são números\n  for valor in dimensoes:\n    if not isinstance(valor, (int, float)):\n      raise ValueError(\"Os valores na tupla 'dimensoes' devem ser números.\")\n\n  # Extrair a largura e o comprimento da tupla\n  largura, comprimento = dimensoes\n\n  # Calcular a área e o perímetro\n  area = largura * comprimento\n  perimetro = 2 * (largura + comprimento)\n\n  # Retornar um dicionário com a área e o perímetro\n  return {\"area\": area, \"perimetro\": perimetro}\n\n# Chamada da função com as dimensões fornecidas\nresultado = calcula_area_perimetro((largura, comprimento))\n\n# Imprimir o resultado e seu tipo\nprint(resultado)\nprint(type(resultado))\n\n",
      "metadata": {
        "trusted": true
      },
      "outputs": [
        {
          "name": "stdout",
          "text": "{'area': 35, 'perimetro': 24}\n<class 'dict'>\n",
          "output_type": "stream"
        }
      ],
      "execution_count": 3
    },
    {
      "id": "e1866c04",
      "cell_type": "code",
      "source": "# Complete o exemplo de uso abaixo\nlargura = 5\ncomprimento = 7\n\nretorno = ## complete aqui a chamada da função\nprint(retorno, type(retorno))",
      "metadata": {},
      "outputs": [],
      "execution_count": null
    },
    {
      "id": "cbdcb986",
      "cell_type": "markdown",
      "source": "### Q2.\n\nDada uma string, imprima todas as vogais que aparecem na string, bem como todos os índices onde elas ocorrem. Para isso, use a função ```enumerate```.\n",
      "metadata": {}
    },
    {
      "id": "1f6b1f2d",
      "cell_type": "code",
      "source": "frase = \"O rato roeu a roupa da Alice\"\n\n# Implemente aqui sua solução\n\ndef encontra_vogais(frase):\n  # Verificar se o argumento 'texto' é uma string\n  if not isinstance(frase, str):\n    raise TypeError(\"O argumento 'texto' deve ser uma string.\")\n\n  # Converter a string para minúsculo para normalizar as vogais\n  texto_minusculo = frase.lower()\n\n  # Vogais em português\n  vogais = \"aeiou\"\n\n  # Iterar sobre os caracteres da string\n  for indice, caractere in enumerate(texto_minusculo):\n    # Verificar se o caractere é uma vogal\n    if caractere in vogais:\n      # Imprimir a vogal e seu índice\n      print(f\"Vogal encontrada: '{caractere}' no índice {indice}\")\n\n\nencontra_vogais(frase)\n",
      "metadata": {
        "trusted": true
      },
      "outputs": [
        {
          "name": "stdout",
          "text": "Vogal encontrada: 'o' no índice 0\nVogal encontrada: 'a' no índice 3\nVogal encontrada: 'o' no índice 5\nVogal encontrada: 'o' no índice 8\nVogal encontrada: 'e' no índice 9\nVogal encontrada: 'u' no índice 10\nVogal encontrada: 'a' no índice 12\nVogal encontrada: 'o' no índice 15\nVogal encontrada: 'u' no índice 16\nVogal encontrada: 'a' no índice 18\nVogal encontrada: 'a' no índice 21\nVogal encontrada: 'a' no índice 23\nVogal encontrada: 'i' no índice 25\nVogal encontrada: 'e' no índice 27\n",
          "output_type": "stream"
        }
      ],
      "execution_count": 4
    },
    {
      "id": "8d46663f",
      "cell_type": "markdown",
      "source": "### Q3.\n\nEscreva uma função em Python chamada ```ordenar_tuplas``` que recebe uma lista de tuplas, cada uma contendo o nome de um aluno e sua respectiva média, e retorna uma nova lista ordenada em ordem decrescente de médias.",
      "metadata": {}
    },
    {
      "id": "469f2e6e",
      "cell_type": "code",
      "source": "# Implemente aqui a função ordenar_tuplas",
      "metadata": {},
      "outputs": [],
      "execution_count": null
    },
    {
      "id": "1972c62b",
      "cell_type": "code",
      "source": "# Exemplo de uso:\nalunos_notas = [('Alice', 8.5), ('Bob', 7.2), ('Charlie', 9.0), ('David', 8.8)]\nresultado = ordenar_tuplas(alunos_notas)\nprint(resultado)\n# Saída esperada: [('Charlie', 9.0), ('David', 8.8), ('Alice', 8.5), ('Bob', 7.2)]",
      "metadata": {},
      "outputs": [],
      "execution_count": null
    },
    {
      "id": "e0268fae",
      "cell_type": "markdown",
      "source": "### Q4.\n\nEscreva uma função em Python chamada ```comprimir_tuplas``` que recebe uma lista de tuplas, cada uma contendo uma palavra e um número, e retorna uma nova lista de tuplas onde palavras idênticas são agrupadas e seus números são somados.\n\n",
      "metadata": {}
    },
    {
      "id": "30a221f3",
      "cell_type": "code",
      "source": "# Implemente aqui a função comprimir_tuplas\n\ndef ordenar_tuplas(alunos_notas):\n  # Verificar se o argumento 'alunos_notas' é uma lista\n  if not isinstance(alunos_notas, list):\n    raise TypeError(\"O argumento 'alunos_notas' deve ser uma lista.\")\n\n  # Verificar se cada tupla na lista tem 2 elementos\n  for aluno_nota in alunos_notas:\n    if not isinstance(aluno_nota, tuple) or len(aluno_nota) != 2:\n      raise ValueError(\"Cada tupla na lista 'alunos_notas' deve ter 2 elementos.\")\n\n  # Verificar se o segundo elemento de cada tupla é um número\n  for aluno_nota in alunos_notas:\n    if not isinstance(aluno_nota[1], (int, float)):\n      raise ValueError(\"O segundo elemento de cada tupla na lista 'alunos_notas' deve ser um número.\")\n\n  # Ordenar a lista usando a chave 'média' (segundo elemento da tupla) em ordem decrescente\n  alunos_notas.sort(key=lambda x: x[1], reverse=True)\n\n  # Retornar a lista ordenada\n  return alunos_notas\n\n\nresultado = ordenar_tuplas(alunos_notas)\nprint(resultado)\n",
      "metadata": {
        "trusted": true
      },
      "outputs": [
        {
          "ename": "<class 'NameError'>",
          "evalue": "name 'alunos_notas' is not defined",
          "traceback": [
            "\u001b[0;31m---------------------------------------------------------------------------\u001b[0m",
            "\u001b[0;31mNameError\u001b[0m                                 Traceback (most recent call last)",
            "Cell \u001b[0;32mIn[5], line 25\u001b[0m\n\u001b[1;32m     21\u001b[0m   \u001b[38;5;66;03m# Retornar a lista ordenada\u001b[39;00m\n\u001b[1;32m     22\u001b[0m   \u001b[38;5;28;01mreturn\u001b[39;00m alunos_notas\n\u001b[0;32m---> 25\u001b[0m resultado \u001b[38;5;241m=\u001b[39m ordenar_tuplas(\u001b[43malunos_notas\u001b[49m)\n\u001b[1;32m     26\u001b[0m \u001b[38;5;28mprint\u001b[39m(resultado)\n",
            "\u001b[0;31mNameError\u001b[0m: name 'alunos_notas' is not defined"
          ],
          "output_type": "error"
        }
      ],
      "execution_count": 5
    },
    {
      "id": "80972bac",
      "cell_type": "code",
      "source": "# Exemplo de uso:\ntuplas_originais = [('maçã', 3), ('banana', 2), ('maçã', 5), ('laranja', 1), ('banana', 3)]\nresultado = comprimir_tuplas(tuplas_originais)\nprint(resultado)\n# Saída esperada: [('maçã', 8), ('banana', 5), ('laranja', 1)]",
      "metadata": {},
      "outputs": [],
      "execution_count": null
    },
    {
      "id": "649a5082",
      "cell_type": "markdown",
      "source": "### Q5. \n\n- Escreva um script que peça o nome e a idade de todos na fila de uma balada. Crie uma lista de tuplas com os pares ```(nome, idade)``` de cada um. \n- Em seguida crie e imprima duas tuplas apenas com os nomes, uma com os menores de idade que não poderão entrar, e uma com os maiores de idade (```idade >= 18```). \n\n",
      "metadata": {}
    },
    {
      "id": "47cb0573",
      "cell_type": "code",
      "source": "## Implemente aqui sua solução",
      "metadata": {},
      "outputs": [],
      "execution_count": null
    }
  ]
}