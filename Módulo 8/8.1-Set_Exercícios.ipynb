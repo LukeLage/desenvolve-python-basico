{
  "metadata": {
    "kernelspec": {
      "name": "python",
      "display_name": "Python (Pyodide)",
      "language": "python"
    },
    "language_info": {
      "codemirror_mode": {
        "name": "python",
        "version": 3
      },
      "file_extension": ".py",
      "mimetype": "text/x-python",
      "name": "python",
      "nbconvert_exporter": "python",
      "pygments_lexer": "ipython3",
      "version": "3.8"
    }
  },
  "nbformat_minor": 5,
  "nbformat": 4,
  "cells": [
    {
      "id": "0d5035b5",
      "cell_type": "markdown",
      "source": "# Set\n\n## Aula 8.1",
      "metadata": {}
    },
    {
      "id": "0bdece85",
      "cell_type": "markdown",
      "source": "### Q1. \n\nDada uma string qualquer, use seu conhecimento de sets para apresentar os caracteres únicos que aparecem na string, ordenados alfabeticamente e sem duplicatas. Preste atenção em duplicatas de maiúsculas e minúsculas.\n",
      "metadata": {}
    },
    {
      "id": "0a258eba",
      "cell_type": "code",
      "source": "frase = \"O rato roeu a roupa do Robson\"\n\n## Implemente aqui sua solução\n\n\ndef caracteres_unicos_ordenados(texto):\n\n  # Converter tudo para minúsculo\n  texto_minusculo = texto.lower()\n\n  # Criar um set para armazenar os caracteres únicos\n  conjunto_caracteres = set()\n  for caractere in texto_minusculo:\n    if caractere.isalnum():  # Verificar se é um caractere alfanumérico\n      conjunto_caracteres.add(caractere)\n\n  # Ordenar os caracteres\n  caracteres_ordenados = \"\".join(sorted(conjunto_caracteres))\n\n  return caracteres_ordenados\n\n# Exemplo de uso\ncaracteres_unicos = caracteres_unicos_ordenados(frase)\nprint(f\"Caracteres únicos em '{frase}': {caracteres_unicos}\")\n",
      "metadata": {
        "trusted": true
      },
      "outputs": [
        {
          "name": "stdout",
          "text": "Caracteres únicos em 'O rato roeu a roupa do Robson': abdenoprstu\n",
          "output_type": "stream"
        }
      ],
      "execution_count": 3
    },
    {
      "id": "0856bd56",
      "cell_type": "markdown",
      "source": "### Q2\n\nDesenvolva uma função em Python chamada ```tem_elementos_comuns()``` que recebe duas listas como parâmetros e retorna True se houver algum elemento comum entre as duas listas, e False caso contrário. Utilize sets para resolver essa tarefa.",
      "metadata": {}
    },
    {
      "id": "f7ab6736",
      "cell_type": "code",
      "source": "# Implemente aqui a função tem_elementos_comuns()\n\ndef tem_elementos_comuns(lista1, lista2):\n  # Converter as listas para sets\n  set1 = set(lista1)\n  set2 = set(lista2)\n\n  # Verificar se a interseção dos sets está vazia\n  if set1.intersection(set2):\n    return True\n  else:\n    return False\n\nresultado = tem_elementos_comuns(lista1, lista2)\nprint(f\"As listas {lista1} e {lista2} possuem elementos em comum? {resultado}\")\n\n",
      "metadata": {
        "trusted": true
      },
      "outputs": [
        {
          "name": "stdout",
          "text": "As listas [1, 2, 3, 4] e [3, 4, 5, 6, 7] possuem elementos em comum? True\n",
          "output_type": "stream"
        }
      ],
      "execution_count": 5
    },
    {
      "id": "1022744a",
      "cell_type": "code",
      "source": "# Execute esta célula para testar a função da Q2.\n\nlista1 = [1, 2, 3, 4]\nlista2 = [3, 4, 5, 6, 7]\nresultado = tem_elementos_comuns(lista1, lista2)\nprint(resultado)  # Saída esperada: True",
      "metadata": {
        "trusted": true
      },
      "outputs": [
        {
          "ename": "<class 'NameError'>",
          "evalue": "name 'tem_elementos_comuns' is not defined",
          "traceback": [
            "\u001b[0;31m---------------------------------------------------------------------------\u001b[0m",
            "\u001b[0;31mNameError\u001b[0m                                 Traceback (most recent call last)",
            "Cell \u001b[0;32mIn[4], line 5\u001b[0m\n\u001b[1;32m      3\u001b[0m lista1 \u001b[38;5;241m=\u001b[39m [\u001b[38;5;241m1\u001b[39m, \u001b[38;5;241m2\u001b[39m, \u001b[38;5;241m3\u001b[39m, \u001b[38;5;241m4\u001b[39m]\n\u001b[1;32m      4\u001b[0m lista2 \u001b[38;5;241m=\u001b[39m [\u001b[38;5;241m3\u001b[39m, \u001b[38;5;241m4\u001b[39m, \u001b[38;5;241m5\u001b[39m, \u001b[38;5;241m6\u001b[39m, \u001b[38;5;241m7\u001b[39m]\n\u001b[0;32m----> 5\u001b[0m resultado \u001b[38;5;241m=\u001b[39m \u001b[43mtem_elementos_comuns\u001b[49m(lista1, lista2)\n\u001b[1;32m      6\u001b[0m \u001b[38;5;28mprint\u001b[39m(resultado)  \u001b[38;5;66;03m# Saída esperada: True\u001b[39;00m\n",
            "\u001b[0;31mNameError\u001b[0m: name 'tem_elementos_comuns' is not defined"
          ],
          "output_type": "error"
        }
      ],
      "execution_count": 4
    },
    {
      "id": "649a5082",
      "cell_type": "markdown",
      "source": "### Q3. \n\nVocê vai coletar de diferentes turmas de alunos seus interesses em atividades extra curriculares dentre futebol, vôlei, rugby, música, teatro, ações comunitárias. Informe o conjunto de atividades comuns a todas a turmas. Pode preencher o iterável turmas com valores arbitrários. \n",
      "metadata": {}
    },
    {
      "id": "880a9927",
      "cell_type": "code",
      "source": "turmas = [\n     {'ações comunitárias', 'futebol', 'música', 'rugby'},\n     {'ações comunitárias', 'música', 'rugby', 'teatro'},\n     {'música', 'rugby', 'teatro', 'vôlei'},\n     {'música', 'vôlei', 'rugby'},\n     {'ações comunitárias', 'futebol', 'rugby', 'teatro', 'vôlei'},\n     {'ações comunitárias', 'futebol', 'rugby'},\n     {'ações comunitárias', 'rugby', 'teatro', 'vôlei'},\n     {'ações comunitárias', 'rugby', 'teatro', 'vôlei'},\n     {'ações comunitárias', 'rugby', 'vôlei'}\n]\n\n\n## Implemente aqui sua solução\n\ndef atividades_comuns_em_todas_turmas(turmas):\n  # Inicializar o conjunto de atividades comuns com a primeira turma\n  atividades_comuns = set(turmas[0])\n\n  # Iterar pelas demais turmas\n  for turma in turmas[1:]:\n    # Atualizar o conjunto de atividades comuns com a interseção entre as atividades da turma atual e o conjunto atual\n    atividades_comuns = atividades_comuns.intersection(turma)\n\n  # Retornar o conjunto de atividades comuns\n  return atividades_comuns\n\natividades_em_todas = atividades_comuns_em_todas_turmas(turmas_exemplo)\nprint(f\"Atividades presentes em todas as turmas: {atividades_em_todas}\")\n",
      "metadata": {},
      "outputs": [],
      "execution_count": null
    },
    {
      "id": "021e2b1e",
      "cell_type": "markdown",
      "source": "### Q4. \nConsidere duas listas que são duplicatas uma da outra, exceto por um elemento, exemplo:\n```\nA = [1, 4, 5, 7, 9]\nB = [4, 5, 7, 9]\n```\n\nEncontre e apresente o elemento diferente, informando também qual das listas está desfalcada. Para o exemplo acima, a saída esperada é\n```\nO elemento 1 está faltando na segunda lista\n```",
      "metadata": {}
    },
    {
      "id": "608761a4",
      "cell_type": "code",
      "source": "## Implemente aqui sua solução",
      "metadata": {},
      "outputs": [],
      "execution_count": null
    },
    {
      "id": "ddf180c1",
      "cell_type": "markdown",
      "source": "### Q5.\n\nPanagramas são frases que contém todas as letras do alfabeto pelo menos uma vez. Crie uma função ```checa_panagrama``` que recebe uma string e retorna ```True``` caso seja um panagrama ou ```False```caso contrário. Use seu conhecimento de sets para solucionar essa questão.\n\nEx: \n```\nEntrada: \"The quick brown fox jumps over the lazy dog\" \nSaída: É um panagrama\n```\n\n```\nEntrada: \"Python é uma linguagem de programação\" \nSaída: Não é um panagrama\n```",
      "metadata": {}
    },
    {
      "id": "4e8b0390",
      "cell_type": "code",
      "source": "## Implemente aqui sua solução",
      "metadata": {},
      "outputs": [],
      "execution_count": null
    }
  ]
}