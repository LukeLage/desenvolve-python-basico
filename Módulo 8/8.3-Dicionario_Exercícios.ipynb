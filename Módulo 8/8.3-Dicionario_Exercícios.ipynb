{
  "metadata": {
    "kernelspec": {
      "name": "python",
      "display_name": "Python (Pyodide)",
      "language": "python"
    },
    "language_info": {
      "codemirror_mode": {
        "name": "python",
        "version": 3
      },
      "file_extension": ".py",
      "mimetype": "text/x-python",
      "name": "python",
      "nbconvert_exporter": "python",
      "pygments_lexer": "ipython3",
      "version": "3.8"
    }
  },
  "nbformat_minor": 5,
  "nbformat": 4,
  "cells": [
    {
      "id": "0d5035b5",
      "cell_type": "markdown",
      "source": "# Dicionários\n\n## Aula 8.3",
      "metadata": {}
    },
    {
      "id": "0bdece85",
      "cell_type": "markdown",
      "source": "### Q1. \n\nEscreva uma função em Python chamada ```contagem_caracteres``` que recebe uma string como parâmetro e retorna um dicionário onde as chaves são os caracteres presentes na string e os valores são a contagem de cada caractere.\n",
      "metadata": {}
    },
    {
      "id": "09a9845d",
      "cell_type": "code",
      "source": "# Implemente aqui a função contagem_caracteres\n\ndef contagem_caracteres(texto):\n  # Verificar se o argumento 'texto' é uma string\n  if not isinstance(texto, str):\n    raise TypeError(\"O argumento 'texto' deve ser uma string.\")\n\n  # Criar um dicionário vazio para armazenar as contagens\n  contagem = {}\n\n  # Iterar sobre cada caractere da string\n  for caractere in texto:\n    # Verificar se o caractere já está no dicionário\n    if caractere in contagem:\n      # Se o caractere já existe, incrementar sua contagem\n      contagem[caractere] += 1\n    else:\n      # Se o caractere é novo, adicionar ao dicionário com contagem 1\n      contagem[caractere] = 1\n\n  # Retornar o dicionário com as contagens de caracteres\n  return contagem\n",
      "metadata": {
        "trusted": true
      },
      "outputs": [],
      "execution_count": 1
    },
    {
      "id": "0a258eba",
      "cell_type": "code",
      "source": "# Exemplo de uso:\nfrase = \"python programming\"\nresultado = contagem_caracteres(frase)\nprint(resultado)",
      "metadata": {
        "trusted": true
      },
      "outputs": [
        {
          "name": "stdout",
          "text": "{'p': 2, 'y': 1, 't': 1, 'h': 1, 'o': 2, 'n': 2, ' ': 1, 'r': 2, 'g': 2, 'a': 1, 'm': 2, 'i': 1}\n",
          "output_type": "stream"
        }
      ],
      "execution_count": 2
    },
    {
      "id": "649a5082",
      "cell_type": "markdown",
      "source": "### Q2. \n\nBaixe o arquivo contendo o roteiro do filme brasileiro \"Estômago\" e salve em seu computador com o nome \"estomago.txt\".\n\nhttps://aplauso.imprensaoficial.com.br/edicoes/12.0.813.502/12.0.813.502.txt\n\n- Escreva um script python que abre o arquivo de texto e cria um dicionário contando a quantidade de vezes que cada palavra aparece no texto.\n- Em seguida ordene o dicionário de forma decrescente pelos valores. Dessa maneira ele irá apresentar as palavras mais frequentes no início.\n- Apresente na tela o dicionário ordenado\n",
      "metadata": {}
    },
    {
      "id": "47cb0573",
      "cell_type": "code",
      "source": "# Implemente aqui sua solução",
      "metadata": {},
      "outputs": [],
      "execution_count": null
    },
    {
      "id": "bb62d219",
      "cell_type": "markdown",
      "source": "### Q3. \n\nCrie uma função chamada ```mesclar_dicionarios``` que recebe dois dicionários como parâmetros e retorna um novo dicionário contendo a fusão dos dois. Se houver chaves comuns, o maior valor deve prevalecer.",
      "metadata": {}
    },
    {
      "id": "f4363612",
      "cell_type": "code",
      "source": "# Implemente aqui a função mesclar_dicionarios\n\ndef mesclar_dicionarios(dicionario1, dicionario2):\n  # Verificar se os argumentos são dicionários\n  if not isinstance(dicionario1, dict) or not isinstance(dicionario2, dict):\n    raise TypeError(\"Os argumentos devem ser dicionários.\")\n\n  # Criar um novo dicionário vazio para o resultado\n  dicionario_resultado = {}\n\n  # Iterar sobre os pares chave-valor do primeiro dicionário\n  for chave, valor in dicionario1.items():\n    # Adicionar a chave e o valor ao dicionário de resultado\n    dicionario_resultado[chave] = valor\n\n  # Iterar sobre os pares chave-valor do segundo dicionário\n  for chave, valor in dicionario2.items():\n    # Se a chave já existe no dicionário de resultado, atualizar o valor\n    if chave in dicionario_resultado:\n      # Priorizar o maior valor para chaves comuns\n      dicionario_resultado[chave] = max(dicionario_resultado[chave], valor)\n    else:\n      # Adicionar a chave e o valor ao dicionário de resultado se não existir\n      dicionario_resultado[chave] = valor\n\n  # Retornar o dicionário de resultado com os dados mesclados\n  return dicionario_resultado\n\n",
      "metadata": {
        "trusted": true
      },
      "outputs": [],
      "execution_count": 3
    },
    {
      "id": "add41556",
      "cell_type": "code",
      "source": "# Exemplo de uso:\ndicionario1 = {'a': 1, 'b': 2, 'c': 3}\ndicionario2 = {'b': 4, 'd': 5}\nresultado = mesclar_dicionarios(dicionario1, dicionario2)\nprint(resultado)\n# Saída esperada: {'a': 1, 'b': 4, 'c': 3, 'd': 5}",
      "metadata": {
        "trusted": true
      },
      "outputs": [
        {
          "name": "stdout",
          "text": "{'a': 1, 'b': 4, 'c': 3, 'd': 5}\n",
          "output_type": "stream"
        }
      ],
      "execution_count": 4
    },
    {
      "id": "8710b1a7",
      "cell_type": "markdown",
      "source": "### Q4.\n\nDesenvolva uma função em Python chamada ```filtrar_dicionario``` que recebe um dicionário e uma lista de chaves como parâmetros e retorna um novo dicionário contendo apenas as chaves que estão presentes na lista.",
      "metadata": {}
    },
    {
      "id": "0b7ee921",
      "cell_type": "code",
      "source": "# Implemente aqui a função filtrar_dicionario",
      "metadata": {},
      "outputs": [],
      "execution_count": null
    },
    {
      "id": "ebc131f6",
      "cell_type": "code",
      "source": "# Exemplo de uso:\ndados = {'a': 1, 'b': 2, 'c': 3, 'd': 4, 'e': 5}\nchaves_filtradas = ['a', 'c', 'e']\nresultado = filtrar_dicionario(dados, chaves_filtradas)\nprint(resultado)\n# Saída esperada: {'a': 1, 'c': 3, 'e': 5}",
      "metadata": {},
      "outputs": [],
      "execution_count": null
    },
    {
      "id": "3203c51e",
      "cell_type": "markdown",
      "source": "### Q5.\n\nVocê está responsável por analisar os resultados de uma votação. Cada voto é representado por um dicionário com o nome do candidato e a quantidade de votos que recebeu em uma determinada sessão eleitoral. Escreva uma função chamada ```resultado_votacao``` que recebe uma lista de dicionários de votos e retorna um dicionário onde as chaves são os nomes dos candidatos, e os valores são tuplas ```(total, percentual)``` com o total de votos recebidos por cada candidato e o percentual em relação à soma total de votos em todos os candidatos. ",
      "metadata": {}
    },
    {
      "id": "2c856eee",
      "cell_type": "code",
      "source": "# Implemente aqui a função resultado_votacao",
      "metadata": {},
      "outputs": [],
      "execution_count": null
    },
    {
      "id": "ff2044de",
      "cell_type": "code",
      "source": "# Exemplo de uso:\nvotos = [\n    {'candidato_A': 120, 'candidato_B': 85, 'candidato_C': 90},\n    {'candidato_A': 110, 'candidato_B': 95, 'candidato_C': 80},\n    {'candidato_A': 130, 'candidato_B': 78, 'candidato_C': 105},\n]\nresultado = resultado_votacao(votos)\nprint(resultado)  # Saída esperada: {'candidato_A': (360, 40.31), 'candidato_B': (258, 28.89), \n                                ###  'candidato_C': (275, 30.79)}",
      "metadata": {},
      "outputs": [],
      "execution_count": null
    }
  ]
}